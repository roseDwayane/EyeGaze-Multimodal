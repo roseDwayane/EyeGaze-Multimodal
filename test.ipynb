{
 "cells": [
  {
   "cell_type": "code",
   "execution_count": 4,
   "metadata": {},
   "outputs": [
    {
     "name": "stdout",
     "output_type": "stream",
     "text": [
      "Dataset({\n",
      "    features: ['image1', 'image2', 'class'],\n",
      "    num_rows: 4600\n",
      "})\n"
     ]
    },
    {
     "name": "stderr",
     "output_type": "stream",
     "text": [
      "  0%|          | 0/4600 [00:00<?, ?it/s]"
     ]
    },
    {
     "name": "stdout",
     "output_type": "stream",
     "text": [
      "./bgOn_heatmapOn_trajOn/Pair-12-Coop-EYE_trial01_playerB.jpg\n"
     ]
    },
    {
     "name": "stderr",
     "output_type": "stream",
     "text": [
      "  0%|          | 0/4600 [00:00<?, ?it/s]"
     ]
    },
    {
     "name": "stdout",
     "output_type": "stream",
     "text": [
      "the answer is k, appearing 1 time ( s ). in this single - player mode, the observer ' s gaze is concentrated on multiple areas, including the target. the player ' s gaze is intensely focused on the target, indicating effective target identification.\n",
      "0.0\n"
     ]
    },
    {
     "name": "stderr",
     "output_type": "stream",
     "text": [
      "\n"
     ]
    }
   ],
   "source": [
    "from datasets import load_dataset\n",
    "from PIL import Image\n",
    "import torch\n",
    "from transformers import AutoModelForCausalLM, GitProcessor\n",
    "from tqdm import tqdm\n",
    "\n",
    "ROOT = \"./bgOn_heatmapOn_trajOn/\"\n",
    "\n",
    "train_ds = load_dataset(\"json\", data_files=\"./image_description.json\", split=\"train\")#[:5%]\n",
    "print(train_ds)\n",
    "\n",
    "device = \"cuda\" if torch.cuda.is_available() else \"cpu\"\n",
    "\n",
    "checkpoint = ROOT+'checkpoint/checkpoint-300/'\n",
    "processor = GitProcessor.from_pretrained(\"microsoft/git-base\")#.to(device)\n",
    "model = AutoModelForCausalLM.from_pretrained(checkpoint).to(device)\n",
    "\n",
    "yes_num = 0\n",
    "pred_list = []\n",
    "gt_list = []\n",
    "\n",
    "for idx in tqdm(range(len(train_ds))):#4480\n",
    "    idx = idx + 3\n",
    "    img_path = ROOT + train_ds[idx][\"image1\"]\n",
    "    image1 = Image.open(img_path)\n",
    "    img_path = ROOT + train_ds[idx][\"image2\"]\n",
    "    image2 = Image.open(img_path)\n",
    "    print(img_path)\n",
    "\n",
    "    image2 = image2.resize((image1.width, image1.height))\n",
    "    # 創建拼接後的新圖片（寬度為兩張圖片寬度之和）\n",
    "    new_width = image1.width\n",
    "    new_height = image1.height + image2.height\n",
    "    concatenated_image = Image.new('RGB', (new_width, new_height))\n",
    "\n",
    "    # 將圖片粘貼到新圖片上\n",
    "    concatenated_image.paste(image1, (0, 0))\n",
    "    concatenated_image.paste(image2, (0, image1.height))\n",
    "\n",
    "    #display(concatenated_image)\n",
    "\n",
    "    inputs = processor(images=concatenated_image, return_tensors=\"pt\").to(device)\n",
    "    pixel_values = inputs.pixel_values\n",
    "\n",
    "    generated_ids = model.generate(pixel_values=pixel_values, max_length=128)\n",
    "    generated_caption = processor.batch_decode(generated_ids, skip_special_tokens=True)[0]\n",
    "    print(generated_caption)\n",
    "    break\n",
    "    #print(train_ds[idx][\"class\"].lower())\n",
    "    pred_list.append(generated_caption)\n",
    "    gt_list.append(train_ds[idx][\"class\"].lower())\n",
    "    if train_ds[idx][\"class\"].lower() == generated_caption:\n",
    "        yes_num = yes_num+1\n",
    "    #print(\"yes\")\n",
    "\n",
    "print(yes_num/len(train_ds))"
   ]
  },
  {
   "cell_type": "markdown",
   "metadata": {},
   "source": [
    "## concate methods"
   ]
  },
  {
   "cell_type": "code",
   "execution_count": 4,
   "metadata": {},
   "outputs": [
    {
     "name": "stdout",
     "output_type": "stream",
     "text": [
      "Dataset({\n",
      "    features: ['image1', 'image2', 'class'],\n",
      "    num_rows: 800\n",
      "})\n"
     ]
    },
    {
     "name": "stderr",
     "output_type": "stream",
     "text": [
      "100%|██████████| 800/800 [01:28<00:00,  9.08it/s]"
     ]
    },
    {
     "name": "stdout",
     "output_type": "stream",
     "text": [
      "0.79375\n"
     ]
    },
    {
     "name": "stderr",
     "output_type": "stream",
     "text": [
      "\n"
     ]
    }
   ],
   "source": [
    "from datasets import load_dataset\n",
    "from PIL import Image\n",
    "import torch\n",
    "from transformers import AutoModelForCausalLM, GitProcessor\n",
    "from tqdm import tqdm\n",
    "\n",
    "ROOT = \"./bgOff_heatmapOn_trajOn/\"\n",
    "\n",
    "train_ds = load_dataset(\"json\", data_files=\"./image_gt_test.json\", split=\"train\")#[:5%]\n",
    "print(train_ds)\n",
    "\n",
    "device = \"cuda\" if torch.cuda.is_available() else \"cpu\"\n",
    "\n",
    "checkpoint = ROOT+'checkpoint/checkpoint-680/'\n",
    "processor = GitProcessor.from_pretrained(\"microsoft/git-base\")#.to(device)\n",
    "model = AutoModelForCausalLM.from_pretrained(checkpoint).to(device)\n",
    "\n",
    "yes_num = 0\n",
    "pred_list = []\n",
    "gt_list = []\n",
    "\n",
    "for idx in tqdm(range(len(train_ds))):#4480\n",
    "    img_path = ROOT + train_ds[idx][\"image1\"]\n",
    "    image1 = Image.open(img_path)\n",
    "    img_path = ROOT + train_ds[idx][\"image2\"]\n",
    "    image2 = Image.open(img_path)\n",
    "    #print(img_path)\n",
    "\n",
    "    image2 = image2.resize((image1.width, image1.height))\n",
    "    # 創建拼接後的新圖片（寬度為兩張圖片寬度之和）\n",
    "    new_width = image1.width\n",
    "    new_height = image1.height + image2.height\n",
    "    concatenated_image = Image.new('RGB', (new_width, new_height))\n",
    "\n",
    "    # 將圖片粘貼到新圖片上\n",
    "    concatenated_image.paste(image1, (0, 0))\n",
    "    concatenated_image.paste(image2, (0, image1.height))\n",
    "\n",
    "    #display(concatenated_image)\n",
    "\n",
    "    inputs = processor(images=concatenated_image, return_tensors=\"pt\").to(device)\n",
    "    pixel_values = inputs.pixel_values\n",
    "\n",
    "    generated_ids = model.generate(pixel_values=pixel_values, max_length=128)\n",
    "    generated_caption = processor.batch_decode(generated_ids, skip_special_tokens=True)[0]\n",
    "    #print(generated_caption)\n",
    "    #print(train_ds[idx][\"class\"].lower())\n",
    "    pred_list.append(generated_caption)\n",
    "    gt_list.append(train_ds[idx][\"class\"].lower())\n",
    "    if train_ds[idx][\"class\"].lower() == generated_caption:\n",
    "        yes_num = yes_num+1\n",
    "    #print(\"yes\")\n",
    "\n",
    "print(yes_num/len(train_ds))"
   ]
  },
  {
   "cell_type": "code",
   "execution_count": 5,
   "metadata": {},
   "outputs": [
    {
     "name": "stdout",
     "output_type": "stream",
     "text": [
      "{'accuracy': 0.79375}\n",
      "{'precision': 0.7987968508298842}\n",
      "{'recall': 0.79375}\n",
      "{'f1': 0.7855591569843199}\n"
     ]
    }
   ],
   "source": [
    "from evaluate import load\n",
    "import torch\n",
    "\n",
    "# Load the metrics\n",
    "accuracy_metric = load(\"accuracy\")\n",
    "precision_metric = load(\"precision\")\n",
    "recall_metric = load(\"recall\")\n",
    "f1_metric = load(\"f1\")\n",
    "\n",
    "label_mapping = {\"single\": 0, \"cooperation\": 1, \"competition\": 2}\n",
    "\n",
    "encoded_labels = [label_mapping.get(label, 4) for label in gt_list]\n",
    "encoded_predictions = [label_mapping.get(pred, 4) for pred in pred_list]\n",
    "\n",
    "accuracy = accuracy_metric.compute(predictions=encoded_predictions, references=encoded_labels)\n",
    "precision = precision_metric.compute(predictions=encoded_predictions, references=encoded_labels, average=\"weighted\")\n",
    "recall = recall_metric.compute(predictions=encoded_predictions, references=encoded_labels, average=\"weighted\")\n",
    "f1_score = f1_metric.compute(predictions=encoded_predictions, references=encoded_labels, average=\"weighted\")\n",
    "\n",
    "print(accuracy)\n",
    "print(precision)\n",
    "print(recall)\n",
    "print(f1_score)\n",
    "\n"
   ]
  },
  {
   "cell_type": "code",
   "execution_count": 6,
   "metadata": {},
   "outputs": [
    {
     "data": {
      "image/png": "[encoded data removed]",
      "text/plain": [
       "<Figure size 800x600 with 2 Axes>"
      ]
     },
     "metadata": {},
     "output_type": "display_data"
    }
   ],
   "source": [
    "import matplotlib.pyplot as plt\n",
    "import seaborn as sns\n",
    "from sklearn.metrics import confusion_matrix\n",
    "\n",
    "# 範例資料：真實標籤和預測標籤\n",
    "y_true = encoded_labels    # 真實標籤\n",
    "y_pred = encoded_predictions  # 預測標籤\n",
    "\n",
    "# 計算混淆矩陣\n",
    "cm = confusion_matrix(y_true, y_pred)\n",
    "\n",
    "# 設定標籤名稱\n",
    "labels = ['single 0', 'cooperation 1', 'competition 2']\n",
    "\n",
    "# 繪製混淆矩陣\n",
    "plt.figure(figsize=(8, 6))\n",
    "sns.heatmap(cm, annot=True, fmt=\"d\", cmap=\"Blues\", xticklabels=labels, yticklabels=labels)\n",
    "plt.xlabel(\"Predicted Label\")\n",
    "plt.ylabel(\"True Label\")\n",
    "plt.title(\"Confusion Matrix\")\n",
    "plt.show()\n"
   ]
  },
  {
   "cell_type": "code",
   "execution_count": 1,
   "metadata": {},
   "outputs": [
    {
     "name": "stdout",
     "output_type": "stream",
     "text": [
      "Dataset({\n",
      "    features: ['image1', 'image2', 'class'],\n",
      "    num_rows: 4480\n",
      "})\n"
     ]
    },
    {
     "name": "stderr",
     "output_type": "stream",
     "text": [
      "100%|██████████| 4480/4480 [06:45<00:00, 11.04it/s]"
     ]
    },
    {
     "name": "stdout",
     "output_type": "stream",
     "text": [
      "0.465625\n"
     ]
    },
    {
     "name": "stderr",
     "output_type": "stream",
     "text": [
      "\n"
     ]
    }
   ],
   "source": [
    "from datasets import load_dataset\n",
    "from PIL import Image\n",
    "import torch\n",
    "from transformers import AutoModelForCausalLM, GitProcessor\n",
    "from tqdm import tqdm\n",
    "\n",
    "\n",
    "\n",
    "train_ds = load_dataset(\"json\", data_files=\"./image_gt.json\", split=\"train\")#[:5%]\n",
    "print(train_ds)\n",
    "\n",
    "device = \"cuda\" if torch.cuda.is_available() else \"cpu\"\n",
    "\n",
    "checkpoint = './vqa_check/checkpoint-1370/'\n",
    "processor = GitProcessor.from_pretrained(\"microsoft/git-base\")#.to(device)\n",
    "model = AutoModelForCausalLM.from_pretrained(checkpoint).to(device)\n",
    "\n",
    "yes_num = 0\n",
    "pred_list = []\n",
    "gt_list = []\n",
    "\n",
    "for idx in tqdm(range(len(train_ds))):#4480\n",
    "    img_path = \"./heatmapOn_trajOn/\" + train_ds[idx][\"image1\"]\n",
    "    image1 = Image.open(img_path)\n",
    "    img_path = \"./heatmapOn_trajOn/\" + train_ds[idx][\"image2\"]\n",
    "    image2 = Image.open(img_path)\n",
    "    #print(img_path)\n",
    "\n",
    "    image2 = image2.resize((image1.width, image1.height))\n",
    "    black_image = Image.new('RGB', (image1.width, image1.height), color=(0, 0, 0))\n",
    "    \n",
    "    #display(image1)\n",
    "    #display(image2)\n",
    "\n",
    "    #inputs = processor(images=[image1, black_image, black_image, image2, black_image, black_image], return_tensors=\"pt\").to(device)\n",
    "    inputs = processor(images=[image1, image2], return_tensors=\"pt\").to(device)\n",
    "    pixel_values = inputs.pixel_values\n",
    "\n",
    "    generated_ids = model.generate(pixel_values=pixel_values, max_length=32)\n",
    "    generated_caption = processor.batch_decode(generated_ids, skip_special_tokens=True)[0]\n",
    "    #print(train_ds[idx][\"class\"].lower(), generated_caption)\n",
    "    #print(train_ds[idx][\"class\"].lower())\n",
    "    pred_list.append(generated_caption)\n",
    "    gt_list.append(train_ds[idx][\"class\"].lower())\n",
    "    if train_ds[idx][\"class\"].lower() == generated_caption:\n",
    "        yes_num = yes_num+1\n",
    "    #print(\"yes\")\n",
    "\n",
    "print(yes_num/len(train_ds))"
   ]
  },
  {
   "cell_type": "code",
   "execution_count": 2,
   "metadata": {},
   "outputs": [
    {
     "name": "stdout",
     "output_type": "stream",
     "text": [
      "{'accuracy': 0.465625}\n",
      "{'precision': 0.33358250336552575}\n",
      "{'recall': 0.465625}\n",
      "{'f1': 0.3863523524301393}\n"
     ]
    },
    {
     "name": "stderr",
     "output_type": "stream",
     "text": [
      "/home/cnelabai/anaconda3/envs/hugging/lib/python3.12/site-packages/sklearn/metrics/_classification.py:1531: UndefinedMetricWarning: Precision is ill-defined and being set to 0.0 in labels with no predicted samples. Use `zero_division` parameter to control this behavior.\n",
      "  _warn_prf(average, modifier, f\"{metric.capitalize()} is\", len(result))\n"
     ]
    }
   ],
   "source": [
    "from evaluate import load\n",
    "import torch\n",
    "\n",
    "# Load the metrics\n",
    "accuracy_metric = load(\"accuracy\")\n",
    "precision_metric = load(\"precision\")\n",
    "recall_metric = load(\"recall\")\n",
    "f1_metric = load(\"f1\")\n",
    "\n",
    "label_mapping = {\"single\": 0, \"cooperation\": 1, \"competition\": 2}\n",
    "\n",
    "encoded_labels = [label_mapping.get(label, 4) for label in gt_list]\n",
    "encoded_predictions = [label_mapping.get(pred, 4) for pred in pred_list]\n",
    "\n",
    "accuracy = accuracy_metric.compute(predictions=encoded_predictions, references=encoded_labels)\n",
    "precision = precision_metric.compute(predictions=encoded_predictions, references=encoded_labels, average=\"weighted\")\n",
    "recall = recall_metric.compute(predictions=encoded_predictions, references=encoded_labels, average=\"weighted\")\n",
    "f1_score = f1_metric.compute(predictions=encoded_predictions, references=encoded_labels, average=\"weighted\")\n",
    "\n",
    "print(accuracy)\n",
    "print(precision)\n",
    "print(recall)\n",
    "print(f1_score)\n",
    "\n"
   ]
  },
  {
   "cell_type": "markdown",
   "metadata": {},
   "source": [
    "### atteion"
   ]
  },
  {
   "cell_type": "code",
   "execution_count": 3,
   "metadata": {},
   "outputs": [
    {
     "data": {
      "image/png": "[encoded data removed]",
      "text/plain": [
       "<Figure size 800x600 with 2 Axes>"
      ]
     },
     "metadata": {},
     "output_type": "display_data"
    }
   ],
   "source": [
    "import matplotlib.pyplot as plt\n",
    "import seaborn as sns\n",
    "from sklearn.metrics import confusion_matrix\n",
    "\n",
    "# 範例資料：真實標籤和預測標籤\n",
    "y_true = encoded_labels    # 真實標籤\n",
    "y_pred = encoded_predictions  # 預測標籤\n",
    "\n",
    "# 計算混淆矩陣\n",
    "cm = confusion_matrix(y_true, y_pred)\n",
    "\n",
    "# 設定標籤名稱\n",
    "labels = ['single 0', 'cooperation 1', 'competition 2']\n",
    "\n",
    "# 繪製混淆矩陣\n",
    "plt.figure(figsize=(8, 6))\n",
    "sns.heatmap(cm, annot=True, fmt=\"d\", cmap=\"Blues\", xticklabels=labels, yticklabels=labels)\n",
    "plt.xlabel(\"Predicted Label\")\n",
    "plt.ylabel(\"True Label\")\n",
    "plt.title(\"Confusion Matrix\")\n",
    "plt.show()\n"
   ]
  },
  {
   "cell_type": "code",
   "execution_count": 2,
   "metadata": {},
   "outputs": [
    {
     "name": "stdout",
     "output_type": "stream",
     "text": [
      "/home/cnelabai/.cache/huggingface/hub\n"
     ]
    }
   ],
   "source": [
    "from transformers import file_utils\n",
    "print(file_utils.default_cache_path)"
   ]
  },
  {
   "cell_type": "code",
   "execution_count": null,
   "metadata": {},
   "outputs": [],
   "source": []
  }
 ],
 "metadata": {
  "kernelspec": {
   "display_name": "hugging",
   "language": "python",
   "name": "python3"
  },
  "language_info": {
   "codemirror_mode": {
    "name": "ipython",
    "version": 3
   },
   "file_extension": ".py",
   "mimetype": "text/x-python",
   "name": "python",
   "nbconvert_exporter": "python",
   "pygments_lexer": "ipython3",
   "version": "3.12.4"
  }
 },
 "nbformat": 4,
 "nbformat_minor": 2
}
